{
 "cells": [
  {
   "cell_type": "code",
   "execution_count": 1,
   "id": "8e40501a",
   "metadata": {},
   "outputs": [],
   "source": [
    "import pandas as pd\n",
    "import numpy as np\n",
    "import matplotlib.pyplot as plt\n",
    "%matplotlib inline\n",
    "import seaborn as sns"
   ]
  },
  {
   "cell_type": "code",
   "execution_count": 2,
   "id": "e896d6d2",
   "metadata": {},
   "outputs": [],
   "source": [
    "customer_df = pd.read_csv(\"/Users/laura.chavez/Documents/GitHub/lab-cleaning-numerical-data/files_for_lab/we_fn_use_c_marketing_customer_value_analysis.csv\")"
   ]
  },
  {
   "cell_type": "code",
   "execution_count": 3,
   "id": "59c5a732",
   "metadata": {},
   "outputs": [
    {
     "data": {
      "text/plain": [
       "['customer',\n",
       " 'state',\n",
       " 'customer_lifetime_value',\n",
       " 'response',\n",
       " 'coverage',\n",
       " 'education',\n",
       " 'effective_to_date',\n",
       " 'employmentstatus',\n",
       " 'gender',\n",
       " 'income',\n",
       " 'location_code',\n",
       " 'marital_status',\n",
       " 'monthly_premium_auto',\n",
       " 'months_since_last_claim',\n",
       " 'months_since_policy_inception',\n",
       " 'number_of_open_complaints',\n",
       " 'number_of_policies',\n",
       " 'policy_type',\n",
       " 'policy',\n",
       " 'renew_offer_type',\n",
       " 'sales_channel',\n",
       " 'total_claim_amount',\n",
       " 'vehicle_class',\n",
       " 'vehicle_size']"
      ]
     },
     "execution_count": 3,
     "metadata": {},
     "output_type": "execute_result"
    }
   ],
   "source": [
    "new_cols=[]\n",
    "for col in customer_df.columns:\n",
    "    new_col = col.lower().replace(' ', '_')\n",
    "    new_cols.append(new_col)\n",
    "new_cols"
   ]
  },
  {
   "cell_type": "code",
   "execution_count": 4,
   "id": "0b78c59d",
   "metadata": {},
   "outputs": [],
   "source": [
    "customer_df.columns=new_cols"
   ]
  },
  {
   "cell_type": "code",
   "execution_count": 5,
   "id": "176cfb45",
   "metadata": {},
   "outputs": [
    {
     "data": {
      "text/plain": [
       "Index(['customer_lifetime_value', 'income', 'monthly_premium_auto',\n",
       "       'months_since_last_claim', 'months_since_policy_inception',\n",
       "       'number_of_open_complaints', 'number_of_policies',\n",
       "       'total_claim_amount'],\n",
       "      dtype='object')"
      ]
     },
     "execution_count": 5,
     "metadata": {},
     "output_type": "execute_result"
    }
   ],
   "source": [
    "df_num = customer_df.select_dtypes(exclude='object')\n",
    "df_num.columns"
   ]
  },
  {
   "cell_type": "code",
   "execution_count": 6,
   "id": "cb422677",
   "metadata": {},
   "outputs": [
    {
     "data": {
      "text/plain": [
       "customer                         0\n",
       "state                            0\n",
       "customer_lifetime_value          0\n",
       "response                         0\n",
       "coverage                         0\n",
       "education                        0\n",
       "effective_to_date                0\n",
       "employmentstatus                 0\n",
       "gender                           0\n",
       "income                           0\n",
       "location_code                    0\n",
       "marital_status                   0\n",
       "monthly_premium_auto             0\n",
       "months_since_last_claim          0\n",
       "months_since_policy_inception    0\n",
       "number_of_open_complaints        0\n",
       "number_of_policies               0\n",
       "policy_type                      0\n",
       "policy                           0\n",
       "renew_offer_type                 0\n",
       "sales_channel                    0\n",
       "total_claim_amount               0\n",
       "vehicle_class                    0\n",
       "vehicle_size                     0\n",
       "dtype: int64"
      ]
     },
     "execution_count": 6,
     "metadata": {},
     "output_type": "execute_result"
    }
   ],
   "source": [
    "customer_df.isna().sum()"
   ]
  },
  {
   "cell_type": "code",
   "execution_count": 7,
   "id": "7a9cc1f6",
   "metadata": {},
   "outputs": [],
   "source": [
    "#\"customer_lifetime_value\"\n",
    "\n",
    "clv_q1=np.percentile(customer_df['customer_lifetime_value'], 25)   \n",
    "clv_q3=np.percentile(customer_df['customer_lifetime_value'], 75)  \n",
    "clv_iqr=clv_q3-clv_q1 \n",
    "\n",
    "clv_upper_limit = clv_q3 + 1.5*clv_iqr\n",
    "clv_lower_limit = clv_q1 - 1.5*clv_iqr\n",
    "\n",
    "version1 = customer_df[(customer_df['customer_lifetime_value']>clv_lower_limit) & \n",
    "                      (customer_df['customer_lifetime_value']<clv_upper_limit)]\n",
    "\n",
    "#\"monthly_premium_auto\"\n",
    "\n",
    "mpa_q1=np.percentile(customer_df['monthly_premium_auto'], 25)   \n",
    "mpa_q3=np.percentile(customer_df['monthly_premium_auto'], 75)  \n",
    "mpa_iqr=mpa_q3-mpa_q1 \n",
    "\n",
    "mpa_upper_limit = mpa_q3 + 1.5*mpa_iqr\n",
    "mpa_lower_limit = mpa_q1 - 1.5*mpa_iqr\n",
    "\n",
    "version2 = version1[(version1['monthly_premium_auto']>mpa_lower_limit) & \n",
    "                      (version1['monthly_premium_auto']<mpa_upper_limit)]\n",
    "\n",
    "#\"total_claim_amount\"\n",
    "\n",
    "tca_q1=np.percentile(customer_df['total_claim_amount'], 25)   \n",
    "tca_q3=np.percentile(customer_df['total_claim_amount'], 75)  \n",
    "tca_iqr=tca_q3-tca_q1 \n",
    "\n",
    "tca_upper_limit = tca_q3 + 1.5*tca_iqr\n",
    "tca_lower_limit = tca_q1 - 1.5*tca_iqr\n",
    "\n",
    "versionf = version2[(version2['total_claim_amount']>tca_lower_limit) & \n",
    "                      (version2['total_claim_amount']<tca_upper_limit)]"
   ]
  },
  {
   "cell_type": "code",
   "execution_count": 8,
   "id": "97fe4b39",
   "metadata": {},
   "outputs": [
    {
     "name": "stdout",
     "output_type": "stream",
     "text": [
      "<class 'pandas.core.frame.DataFrame'>\n",
      "Index: 7847 entries, 0 to 9133\n",
      "Data columns (total 8 columns):\n",
      " #   Column                         Non-Null Count  Dtype  \n",
      "---  ------                         --------------  -----  \n",
      " 0   customer_lifetime_value        7847 non-null   float64\n",
      " 1   income                         7847 non-null   int64  \n",
      " 2   monthly_premium_auto           7847 non-null   int64  \n",
      " 3   months_since_last_claim        7847 non-null   int64  \n",
      " 4   months_since_policy_inception  7847 non-null   int64  \n",
      " 5   number_of_open_complaints      7847 non-null   int64  \n",
      " 6   number_of_policies             7847 non-null   int64  \n",
      " 7   total_claim_amount             7847 non-null   float64\n",
      "dtypes: float64(2), int64(6)\n",
      "memory usage: 551.7 KB\n"
     ]
    }
   ],
   "source": [
    "new_df_num = versionf.select_dtypes(exclude='object')\n",
    "new_df_num.info()"
   ]
  },
  {
   "cell_type": "code",
   "execution_count": 9,
   "id": "08582d76",
   "metadata": {},
   "outputs": [],
   "source": [
    "from sklearn.preprocessing import PowerTransformer"
   ]
  },
  {
   "cell_type": "code",
   "execution_count": 10,
   "id": "23617977",
   "metadata": {},
   "outputs": [],
   "source": [
    "contvar=new_df_num[['customer_lifetime_value','total_claim_amount']]"
   ]
  },
  {
   "cell_type": "code",
   "execution_count": 11,
   "id": "e765832d",
   "metadata": {},
   "outputs": [],
   "source": [
    "pt = PowerTransformer(method='yeo-johnson', standardize=True)\n",
    "pt.fit(contvar)\n",
    "X_pt = pt.transform(contvar)\n",
    "\n",
    "df_X_pt = pd.DataFrame(X_pt, columns=['customer_lifetime_value','total_claim_amount'])"
   ]
  },
  {
   "cell_type": "code",
   "execution_count": 12,
   "id": "9b6e6ef5",
   "metadata": {},
   "outputs": [
    {
     "data": {
      "text/plain": [
       "Index(['customer', 'state', 'response', 'coverage', 'education',\n",
       "       'effective_to_date', 'employmentstatus', 'gender', 'location_code',\n",
       "       'marital_status', 'policy_type', 'policy', 'renew_offer_type',\n",
       "       'sales_channel', 'vehicle_class', 'vehicle_size'],\n",
       "      dtype='object')"
      ]
     },
     "execution_count": 12,
     "metadata": {},
     "output_type": "execute_result"
    }
   ],
   "source": [
    "df_cat = versionf.select_dtypes('object')\n",
    "df_cat.columns"
   ]
  },
  {
   "cell_type": "code",
   "execution_count": 13,
   "id": "38e5e2c2",
   "metadata": {},
   "outputs": [],
   "source": [
    "df_cat.drop('customer',axis=1,inplace=True)\n",
    "df_cat.drop('effective_to_date',axis=1,inplace=True)"
   ]
  },
  {
   "cell_type": "code",
   "execution_count": 14,
   "id": "26245800",
   "metadata": {},
   "outputs": [
    {
     "name": "stderr",
     "output_type": "stream",
     "text": [
      "/var/folders/v4/bqj9vzp11vd1cvhf93rmpqt00000gp/T/ipykernel_6708/1565205644.py:1: SettingWithCopyWarning: \n",
      "A value is trying to be set on a copy of a slice from a DataFrame.\n",
      "Try using .loc[row_indexer,col_indexer] = value instead\n",
      "\n",
      "See the caveats in the documentation: https://pandas.pydata.org/pandas-docs/stable/user_guide/indexing.html#returning-a-view-versus-a-copy\n",
      "  versionf[\"state\"] = versionf[\"state\"].map({\"Washington\" : 0, \"Nevada\" : 1, \"California\" : 2,\"Oregon\" : 3,\n",
      "/var/folders/v4/bqj9vzp11vd1cvhf93rmpqt00000gp/T/ipykernel_6708/1565205644.py:3: SettingWithCopyWarning: \n",
      "A value is trying to be set on a copy of a slice from a DataFrame.\n",
      "Try using .loc[row_indexer,col_indexer] = value instead\n",
      "\n",
      "See the caveats in the documentation: https://pandas.pydata.org/pandas-docs/stable/user_guide/indexing.html#returning-a-view-versus-a-copy\n",
      "  versionf[\"response\"] = versionf[\"response\"].map({\"No\" : 0, \"Yes\" : 1})\n",
      "/var/folders/v4/bqj9vzp11vd1cvhf93rmpqt00000gp/T/ipykernel_6708/1565205644.py:4: SettingWithCopyWarning: \n",
      "A value is trying to be set on a copy of a slice from a DataFrame.\n",
      "Try using .loc[row_indexer,col_indexer] = value instead\n",
      "\n",
      "See the caveats in the documentation: https://pandas.pydata.org/pandas-docs/stable/user_guide/indexing.html#returning-a-view-versus-a-copy\n",
      "  versionf[\"coverage\"] = versionf[\"coverage\"].map({\"Basic\" : 0, \"Extended\" : 1, \"Premium\" : 2})\n",
      "/var/folders/v4/bqj9vzp11vd1cvhf93rmpqt00000gp/T/ipykernel_6708/1565205644.py:5: SettingWithCopyWarning: \n",
      "A value is trying to be set on a copy of a slice from a DataFrame.\n",
      "Try using .loc[row_indexer,col_indexer] = value instead\n",
      "\n",
      "See the caveats in the documentation: https://pandas.pydata.org/pandas-docs/stable/user_guide/indexing.html#returning-a-view-versus-a-copy\n",
      "  versionf[\"education\"] = versionf[\"education\"].map({\"Bachelor\" : 0, \"College\" : 1, \"Master\" : 2,\n",
      "/var/folders/v4/bqj9vzp11vd1cvhf93rmpqt00000gp/T/ipykernel_6708/1565205644.py:7: SettingWithCopyWarning: \n",
      "A value is trying to be set on a copy of a slice from a DataFrame.\n",
      "Try using .loc[row_indexer,col_indexer] = value instead\n",
      "\n",
      "See the caveats in the documentation: https://pandas.pydata.org/pandas-docs/stable/user_guide/indexing.html#returning-a-view-versus-a-copy\n",
      "  versionf[\"employmentstatus\"] = versionf[\"employmentstatus\"].map({\"Unemployed\" : 0, \"Disabled\" : 1,\n",
      "/var/folders/v4/bqj9vzp11vd1cvhf93rmpqt00000gp/T/ipykernel_6708/1565205644.py:9: SettingWithCopyWarning: \n",
      "A value is trying to be set on a copy of a slice from a DataFrame.\n",
      "Try using .loc[row_indexer,col_indexer] = value instead\n",
      "\n",
      "See the caveats in the documentation: https://pandas.pydata.org/pandas-docs/stable/user_guide/indexing.html#returning-a-view-versus-a-copy\n",
      "  versionf[\"gender\"] = versionf[\"gender\"].map({\"F\" : 0, \"M\" : 1})\n",
      "/var/folders/v4/bqj9vzp11vd1cvhf93rmpqt00000gp/T/ipykernel_6708/1565205644.py:10: SettingWithCopyWarning: \n",
      "A value is trying to be set on a copy of a slice from a DataFrame.\n",
      "Try using .loc[row_indexer,col_indexer] = value instead\n",
      "\n",
      "See the caveats in the documentation: https://pandas.pydata.org/pandas-docs/stable/user_guide/indexing.html#returning-a-view-versus-a-copy\n",
      "  versionf[\"location_code\"] = versionf[\"location_code\"].map({\"Rural\" : 0, \"Suburban\" : 1,\"Urban\" : 2})\n",
      "/var/folders/v4/bqj9vzp11vd1cvhf93rmpqt00000gp/T/ipykernel_6708/1565205644.py:11: SettingWithCopyWarning: \n",
      "A value is trying to be set on a copy of a slice from a DataFrame.\n",
      "Try using .loc[row_indexer,col_indexer] = value instead\n",
      "\n",
      "See the caveats in the documentation: https://pandas.pydata.org/pandas-docs/stable/user_guide/indexing.html#returning-a-view-versus-a-copy\n",
      "  versionf[\"marital_status\"] = versionf[\"marital_status\"].map({\"Single\" : 0, \"Divorced\" : 1, \"Married\" : 2})\n",
      "/var/folders/v4/bqj9vzp11vd1cvhf93rmpqt00000gp/T/ipykernel_6708/1565205644.py:12: SettingWithCopyWarning: \n",
      "A value is trying to be set on a copy of a slice from a DataFrame.\n",
      "Try using .loc[row_indexer,col_indexer] = value instead\n",
      "\n",
      "See the caveats in the documentation: https://pandas.pydata.org/pandas-docs/stable/user_guide/indexing.html#returning-a-view-versus-a-copy\n",
      "  versionf[\"policy_type\"] = versionf[\"policy_type\"].map({\"Personal Auto\" : 0, \"Corporate Auto\" : 1, \"Special Auto\" : 2})\n",
      "/var/folders/v4/bqj9vzp11vd1cvhf93rmpqt00000gp/T/ipykernel_6708/1565205644.py:13: SettingWithCopyWarning: \n",
      "A value is trying to be set on a copy of a slice from a DataFrame.\n",
      "Try using .loc[row_indexer,col_indexer] = value instead\n",
      "\n",
      "See the caveats in the documentation: https://pandas.pydata.org/pandas-docs/stable/user_guide/indexing.html#returning-a-view-versus-a-copy\n",
      "  versionf[\"policy\"] = versionf[\"policy\"].map({\"Personal L1\" : 0, \"Personal L2\" : 1, \"Personal L3\" : 2,\n",
      "/var/folders/v4/bqj9vzp11vd1cvhf93rmpqt00000gp/T/ipykernel_6708/1565205644.py:17: SettingWithCopyWarning: \n",
      "A value is trying to be set on a copy of a slice from a DataFrame.\n",
      "Try using .loc[row_indexer,col_indexer] = value instead\n",
      "\n",
      "See the caveats in the documentation: https://pandas.pydata.org/pandas-docs/stable/user_guide/indexing.html#returning-a-view-versus-a-copy\n",
      "  versionf[\"renew_offer_type\"] = versionf[\"renew_offer_type\"].map({\"Offer1\" : 0, \"Offer2\" : 1, \"Offer3\": 2,\"Offer4\": 3})\n",
      "/var/folders/v4/bqj9vzp11vd1cvhf93rmpqt00000gp/T/ipykernel_6708/1565205644.py:18: SettingWithCopyWarning: \n",
      "A value is trying to be set on a copy of a slice from a DataFrame.\n",
      "Try using .loc[row_indexer,col_indexer] = value instead\n",
      "\n",
      "See the caveats in the documentation: https://pandas.pydata.org/pandas-docs/stable/user_guide/indexing.html#returning-a-view-versus-a-copy\n",
      "  versionf[\"sales_channel\"] = versionf[\"sales_channel\"].map({\"Agent\" : 0, \"Call Center\" : 1, \"Web\": 2,\"Branch\": 3})\n",
      "/var/folders/v4/bqj9vzp11vd1cvhf93rmpqt00000gp/T/ipykernel_6708/1565205644.py:19: SettingWithCopyWarning: \n",
      "A value is trying to be set on a copy of a slice from a DataFrame.\n",
      "Try using .loc[row_indexer,col_indexer] = value instead\n",
      "\n",
      "See the caveats in the documentation: https://pandas.pydata.org/pandas-docs/stable/user_guide/indexing.html#returning-a-view-versus-a-copy\n",
      "  versionf[\"vehicle_class\"] = versionf[\"vehicle_class\"].map({\"Two-Door Car\" : 0, \"SUV\" : 1, \"Four-Door Car\": 2,\n",
      "/var/folders/v4/bqj9vzp11vd1cvhf93rmpqt00000gp/T/ipykernel_6708/1565205644.py:21: SettingWithCopyWarning: \n",
      "A value is trying to be set on a copy of a slice from a DataFrame.\n",
      "Try using .loc[row_indexer,col_indexer] = value instead\n",
      "\n",
      "See the caveats in the documentation: https://pandas.pydata.org/pandas-docs/stable/user_guide/indexing.html#returning-a-view-versus-a-copy\n",
      "  versionf[\"vehicle_size\"] = versionf[\"vehicle_size\"].map({\"Small\" : 0, \"Medsize\" : 1,\"Large\" : 2})\n"
     ]
    }
   ],
   "source": [
    "versionf[\"state\"] = versionf[\"state\"].map({\"Washington\" : 0, \"Nevada\" : 1, \"California\" : 2,\"Oregon\" : 3,\n",
    "                                           \"Arizona\" : 4})\n",
    "versionf[\"response\"] = versionf[\"response\"].map({\"No\" : 0, \"Yes\" : 1})\n",
    "versionf[\"coverage\"] = versionf[\"coverage\"].map({\"Basic\" : 0, \"Extended\" : 1, \"Premium\" : 2})\n",
    "versionf[\"education\"] = versionf[\"education\"].map({\"Bachelor\" : 0, \"College\" : 1, \"Master\" : 2,\n",
    "                                                   \"High School or Below\" : 3,\"Doctor\" : 4})\n",
    "versionf[\"employmentstatus\"] = versionf[\"employmentstatus\"].map({\"Unemployed\" : 0, \"Disabled\" : 1, \n",
    "                                                                 \"Medical Leave\" : 2,\"Retired\" : 3,\"Employed\" : 4})\n",
    "versionf[\"gender\"] = versionf[\"gender\"].map({\"F\" : 0, \"M\" : 1})\n",
    "versionf[\"location_code\"] = versionf[\"location_code\"].map({\"Rural\" : 0, \"Suburban\" : 1,\"Urban\" : 2})\n",
    "versionf[\"marital_status\"] = versionf[\"marital_status\"].map({\"Single\" : 0, \"Divorced\" : 1, \"Married\" : 2})\n",
    "versionf[\"policy_type\"] = versionf[\"policy_type\"].map({\"Personal Auto\" : 0, \"Corporate Auto\" : 1, \"Special Auto\" : 2})\n",
    "versionf[\"policy\"] = versionf[\"policy\"].map({\"Personal L1\" : 0, \"Personal L2\" : 1, \"Personal L3\" : 2,\n",
    "                                             \"Corporate L1\" : 3, \"Corporate L2\" : 4, \"Corporate L3\" : 5,\n",
    "                                             \"Special L1\" : 6, \"Special L2\" : 7, \"Special L3\" : 8})\n",
    "\n",
    "versionf[\"renew_offer_type\"] = versionf[\"renew_offer_type\"].map({\"Offer1\" : 0, \"Offer2\" : 1, \"Offer3\": 2,\"Offer4\": 3})\n",
    "versionf[\"sales_channel\"] = versionf[\"sales_channel\"].map({\"Agent\" : 0, \"Call Center\" : 1, \"Web\": 2,\"Branch\": 3})\n",
    "versionf[\"vehicle_class\"] = versionf[\"vehicle_class\"].map({\"Two-Door Car\" : 0, \"SUV\" : 1, \"Four-Door Car\": 2,\n",
    "                                                           \"Sports Car\": 3})\n",
    "versionf[\"vehicle_size\"] = versionf[\"vehicle_size\"].map({\"Small\" : 0, \"Medsize\" : 1,\"Large\" : 2})"
   ]
  },
  {
   "cell_type": "markdown",
   "id": "d947e0fe",
   "metadata": {},
   "source": [
    "The time variable can be useful."
   ]
  },
  {
   "cell_type": "code",
   "execution_count": 15,
   "id": "fc8b64bb",
   "metadata": {},
   "outputs": [
    {
     "name": "stderr",
     "output_type": "stream",
     "text": [
      "/var/folders/v4/bqj9vzp11vd1cvhf93rmpqt00000gp/T/ipykernel_6708/1984620538.py:1: UserWarning: Could not infer format, so each element will be parsed individually, falling back to `dateutil`. To ensure parsing is consistent and as-expected, please specify a format.\n",
      "  versionf.effective_to_date = pd.to_datetime(versionf.effective_to_date)\n",
      "/var/folders/v4/bqj9vzp11vd1cvhf93rmpqt00000gp/T/ipykernel_6708/1984620538.py:1: SettingWithCopyWarning: \n",
      "A value is trying to be set on a copy of a slice from a DataFrame.\n",
      "Try using .loc[row_indexer,col_indexer] = value instead\n",
      "\n",
      "See the caveats in the documentation: https://pandas.pydata.org/pandas-docs/stable/user_guide/indexing.html#returning-a-view-versus-a-copy\n",
      "  versionf.effective_to_date = pd.to_datetime(versionf.effective_to_date)\n"
     ]
    }
   ],
   "source": [
    "versionf.effective_to_date = pd.to_datetime(versionf.effective_to_date)"
   ]
  },
  {
   "cell_type": "markdown",
   "id": "e9d453b5",
   "metadata": {},
   "source": [
    "Since the model will only accept numerical data, check and make sure that every column is numerical, if some are not, change it using encoding."
   ]
  },
  {
   "cell_type": "code",
   "execution_count": 16,
   "id": "d7449558",
   "metadata": {},
   "outputs": [
    {
     "name": "stdout",
     "output_type": "stream",
     "text": [
      "<class 'pandas.core.frame.DataFrame'>\n",
      "Index: 7847 entries, 0 to 9133\n",
      "Data columns (total 24 columns):\n",
      " #   Column                         Non-Null Count  Dtype         \n",
      "---  ------                         --------------  -----         \n",
      " 0   customer                       7847 non-null   object        \n",
      " 1   state                          7847 non-null   int64         \n",
      " 2   customer_lifetime_value        7847 non-null   float64       \n",
      " 3   response                       7847 non-null   int64         \n",
      " 4   coverage                       7847 non-null   int64         \n",
      " 5   education                      7847 non-null   int64         \n",
      " 6   effective_to_date              7847 non-null   datetime64[ns]\n",
      " 7   employmentstatus               7847 non-null   int64         \n",
      " 8   gender                         7847 non-null   int64         \n",
      " 9   income                         7847 non-null   int64         \n",
      " 10  location_code                  7847 non-null   int64         \n",
      " 11  marital_status                 7847 non-null   int64         \n",
      " 12  monthly_premium_auto           7847 non-null   int64         \n",
      " 13  months_since_last_claim        7847 non-null   int64         \n",
      " 14  months_since_policy_inception  7847 non-null   int64         \n",
      " 15  number_of_open_complaints      7847 non-null   int64         \n",
      " 16  number_of_policies             7847 non-null   int64         \n",
      " 17  policy_type                    7847 non-null   int64         \n",
      " 18  policy                         7847 non-null   int64         \n",
      " 19  renew_offer_type               7847 non-null   int64         \n",
      " 20  sales_channel                  7847 non-null   int64         \n",
      " 21  total_claim_amount             7847 non-null   float64       \n",
      " 22  vehicle_class                  7847 non-null   int64         \n",
      " 23  vehicle_size                   7847 non-null   int64         \n",
      "dtypes: datetime64[ns](1), float64(2), int64(20), object(1)\n",
      "memory usage: 1.5+ MB\n"
     ]
    }
   ],
   "source": [
    "versionf.info()"
   ]
  },
  {
   "cell_type": "markdown",
   "id": "0c491fe8",
   "metadata": {},
   "source": [
    "In this final lab, we will model our data. Import sklearn train_test_split and separate the data."
   ]
  },
  {
   "cell_type": "code",
   "execution_count": 17,
   "id": "54923311",
   "metadata": {},
   "outputs": [
    {
     "name": "stderr",
     "output_type": "stream",
     "text": [
      "/var/folders/v4/bqj9vzp11vd1cvhf93rmpqt00000gp/T/ipykernel_6708/975016216.py:1: SettingWithCopyWarning: \n",
      "A value is trying to be set on a copy of a slice from a DataFrame\n",
      "\n",
      "See the caveats in the documentation: https://pandas.pydata.org/pandas-docs/stable/user_guide/indexing.html#returning-a-view-versus-a-copy\n",
      "  versionf.drop('customer',axis=1,inplace=True)\n"
     ]
    }
   ],
   "source": [
    "versionf.drop('customer',axis=1,inplace=True)"
   ]
  },
  {
   "cell_type": "code",
   "execution_count": 23,
   "id": "9d287687",
   "metadata": {},
   "outputs": [
    {
     "name": "stderr",
     "output_type": "stream",
     "text": [
      "/var/folders/v4/bqj9vzp11vd1cvhf93rmpqt00000gp/T/ipykernel_6708/1169467510.py:1: SettingWithCopyWarning: \n",
      "A value is trying to be set on a copy of a slice from a DataFrame\n",
      "\n",
      "See the caveats in the documentation: https://pandas.pydata.org/pandas-docs/stable/user_guide/indexing.html#returning-a-view-versus-a-copy\n",
      "  versionf.drop('effective_to_date',axis=1,inplace=True)\n"
     ]
    }
   ],
   "source": [
    "versionf.drop('effective_to_date',axis=1,inplace=True)"
   ]
  },
  {
   "cell_type": "code",
   "execution_count": 24,
   "id": "9d449d66",
   "metadata": {},
   "outputs": [
    {
     "data": {
      "text/plain": [
       "0       384.811147\n",
       "2       566.472247\n",
       "3       529.881344\n",
       "4       138.130879\n",
       "5       159.383042\n",
       "           ...    \n",
       "9128    541.282007\n",
       "9130    379.200000\n",
       "9131    790.784983\n",
       "9132    691.200000\n",
       "9133    369.600000\n",
       "Name: total_claim_amount, Length: 7847, dtype: float64"
      ]
     },
     "execution_count": 24,
     "metadata": {},
     "output_type": "execute_result"
    }
   ],
   "source": [
    "y=versionf['total_claim_amount']\n",
    "y"
   ]
  },
  {
   "cell_type": "code",
   "execution_count": 25,
   "id": "8135b991",
   "metadata": {},
   "outputs": [
    {
     "data": {
      "text/html": [
       "<div>\n",
       "<style scoped>\n",
       "    .dataframe tbody tr th:only-of-type {\n",
       "        vertical-align: middle;\n",
       "    }\n",
       "\n",
       "    .dataframe tbody tr th {\n",
       "        vertical-align: top;\n",
       "    }\n",
       "\n",
       "    .dataframe thead th {\n",
       "        text-align: right;\n",
       "    }\n",
       "</style>\n",
       "<table border=\"1\" class=\"dataframe\">\n",
       "  <thead>\n",
       "    <tr style=\"text-align: right;\">\n",
       "      <th></th>\n",
       "      <th>state</th>\n",
       "      <th>customer_lifetime_value</th>\n",
       "      <th>response</th>\n",
       "      <th>coverage</th>\n",
       "      <th>education</th>\n",
       "      <th>employmentstatus</th>\n",
       "      <th>gender</th>\n",
       "      <th>income</th>\n",
       "      <th>location_code</th>\n",
       "      <th>marital_status</th>\n",
       "      <th>...</th>\n",
       "      <th>months_since_last_claim</th>\n",
       "      <th>months_since_policy_inception</th>\n",
       "      <th>number_of_open_complaints</th>\n",
       "      <th>number_of_policies</th>\n",
       "      <th>policy_type</th>\n",
       "      <th>policy</th>\n",
       "      <th>renew_offer_type</th>\n",
       "      <th>sales_channel</th>\n",
       "      <th>vehicle_class</th>\n",
       "      <th>vehicle_size</th>\n",
       "    </tr>\n",
       "  </thead>\n",
       "  <tbody>\n",
       "    <tr>\n",
       "      <th>0</th>\n",
       "      <td>0</td>\n",
       "      <td>2763.519279</td>\n",
       "      <td>0</td>\n",
       "      <td>0</td>\n",
       "      <td>0</td>\n",
       "      <td>4</td>\n",
       "      <td>0</td>\n",
       "      <td>56274</td>\n",
       "      <td>1</td>\n",
       "      <td>2</td>\n",
       "      <td>...</td>\n",
       "      <td>32</td>\n",
       "      <td>5</td>\n",
       "      <td>0</td>\n",
       "      <td>1</td>\n",
       "      <td>1</td>\n",
       "      <td>5</td>\n",
       "      <td>0</td>\n",
       "      <td>0</td>\n",
       "      <td>0</td>\n",
       "      <td>1</td>\n",
       "    </tr>\n",
       "    <tr>\n",
       "      <th>2</th>\n",
       "      <td>1</td>\n",
       "      <td>12887.431650</td>\n",
       "      <td>0</td>\n",
       "      <td>2</td>\n",
       "      <td>0</td>\n",
       "      <td>4</td>\n",
       "      <td>0</td>\n",
       "      <td>48767</td>\n",
       "      <td>1</td>\n",
       "      <td>2</td>\n",
       "      <td>...</td>\n",
       "      <td>18</td>\n",
       "      <td>38</td>\n",
       "      <td>0</td>\n",
       "      <td>2</td>\n",
       "      <td>0</td>\n",
       "      <td>2</td>\n",
       "      <td>0</td>\n",
       "      <td>0</td>\n",
       "      <td>0</td>\n",
       "      <td>1</td>\n",
       "    </tr>\n",
       "    <tr>\n",
       "      <th>3</th>\n",
       "      <td>2</td>\n",
       "      <td>7645.861827</td>\n",
       "      <td>0</td>\n",
       "      <td>0</td>\n",
       "      <td>0</td>\n",
       "      <td>0</td>\n",
       "      <td>1</td>\n",
       "      <td>0</td>\n",
       "      <td>1</td>\n",
       "      <td>2</td>\n",
       "      <td>...</td>\n",
       "      <td>18</td>\n",
       "      <td>65</td>\n",
       "      <td>0</td>\n",
       "      <td>7</td>\n",
       "      <td>1</td>\n",
       "      <td>4</td>\n",
       "      <td>0</td>\n",
       "      <td>1</td>\n",
       "      <td>1</td>\n",
       "      <td>1</td>\n",
       "    </tr>\n",
       "    <tr>\n",
       "      <th>4</th>\n",
       "      <td>0</td>\n",
       "      <td>2813.692575</td>\n",
       "      <td>0</td>\n",
       "      <td>0</td>\n",
       "      <td>0</td>\n",
       "      <td>4</td>\n",
       "      <td>1</td>\n",
       "      <td>43836</td>\n",
       "      <td>0</td>\n",
       "      <td>0</td>\n",
       "      <td>...</td>\n",
       "      <td>12</td>\n",
       "      <td>44</td>\n",
       "      <td>0</td>\n",
       "      <td>1</td>\n",
       "      <td>0</td>\n",
       "      <td>0</td>\n",
       "      <td>0</td>\n",
       "      <td>0</td>\n",
       "      <td>2</td>\n",
       "      <td>1</td>\n",
       "    </tr>\n",
       "    <tr>\n",
       "      <th>5</th>\n",
       "      <td>3</td>\n",
       "      <td>8256.297800</td>\n",
       "      <td>1</td>\n",
       "      <td>0</td>\n",
       "      <td>0</td>\n",
       "      <td>4</td>\n",
       "      <td>0</td>\n",
       "      <td>62902</td>\n",
       "      <td>0</td>\n",
       "      <td>2</td>\n",
       "      <td>...</td>\n",
       "      <td>14</td>\n",
       "      <td>94</td>\n",
       "      <td>0</td>\n",
       "      <td>2</td>\n",
       "      <td>0</td>\n",
       "      <td>2</td>\n",
       "      <td>1</td>\n",
       "      <td>2</td>\n",
       "      <td>0</td>\n",
       "      <td>1</td>\n",
       "    </tr>\n",
       "    <tr>\n",
       "      <th>...</th>\n",
       "      <td>...</td>\n",
       "      <td>...</td>\n",
       "      <td>...</td>\n",
       "      <td>...</td>\n",
       "      <td>...</td>\n",
       "      <td>...</td>\n",
       "      <td>...</td>\n",
       "      <td>...</td>\n",
       "      <td>...</td>\n",
       "      <td>...</td>\n",
       "      <td>...</td>\n",
       "      <td>...</td>\n",
       "      <td>...</td>\n",
       "      <td>...</td>\n",
       "      <td>...</td>\n",
       "      <td>...</td>\n",
       "      <td>...</td>\n",
       "      <td>...</td>\n",
       "      <td>...</td>\n",
       "      <td>...</td>\n",
       "      <td>...</td>\n",
       "    </tr>\n",
       "    <tr>\n",
       "      <th>9128</th>\n",
       "      <td>2</td>\n",
       "      <td>4100.398533</td>\n",
       "      <td>0</td>\n",
       "      <td>2</td>\n",
       "      <td>1</td>\n",
       "      <td>4</td>\n",
       "      <td>0</td>\n",
       "      <td>47761</td>\n",
       "      <td>1</td>\n",
       "      <td>0</td>\n",
       "      <td>...</td>\n",
       "      <td>16</td>\n",
       "      <td>58</td>\n",
       "      <td>0</td>\n",
       "      <td>1</td>\n",
       "      <td>0</td>\n",
       "      <td>1</td>\n",
       "      <td>0</td>\n",
       "      <td>3</td>\n",
       "      <td>2</td>\n",
       "      <td>2</td>\n",
       "    </tr>\n",
       "    <tr>\n",
       "      <th>9130</th>\n",
       "      <td>2</td>\n",
       "      <td>3096.511217</td>\n",
       "      <td>1</td>\n",
       "      <td>1</td>\n",
       "      <td>1</td>\n",
       "      <td>4</td>\n",
       "      <td>0</td>\n",
       "      <td>21604</td>\n",
       "      <td>1</td>\n",
       "      <td>1</td>\n",
       "      <td>...</td>\n",
       "      <td>14</td>\n",
       "      <td>28</td>\n",
       "      <td>0</td>\n",
       "      <td>1</td>\n",
       "      <td>1</td>\n",
       "      <td>5</td>\n",
       "      <td>0</td>\n",
       "      <td>3</td>\n",
       "      <td>2</td>\n",
       "      <td>1</td>\n",
       "    </tr>\n",
       "    <tr>\n",
       "      <th>9131</th>\n",
       "      <td>2</td>\n",
       "      <td>8163.890428</td>\n",
       "      <td>0</td>\n",
       "      <td>1</td>\n",
       "      <td>0</td>\n",
       "      <td>0</td>\n",
       "      <td>1</td>\n",
       "      <td>0</td>\n",
       "      <td>1</td>\n",
       "      <td>0</td>\n",
       "      <td>...</td>\n",
       "      <td>9</td>\n",
       "      <td>37</td>\n",
       "      <td>3</td>\n",
       "      <td>2</td>\n",
       "      <td>1</td>\n",
       "      <td>4</td>\n",
       "      <td>0</td>\n",
       "      <td>3</td>\n",
       "      <td>2</td>\n",
       "      <td>1</td>\n",
       "    </tr>\n",
       "    <tr>\n",
       "      <th>9132</th>\n",
       "      <td>2</td>\n",
       "      <td>7524.442436</td>\n",
       "      <td>0</td>\n",
       "      <td>1</td>\n",
       "      <td>1</td>\n",
       "      <td>4</td>\n",
       "      <td>1</td>\n",
       "      <td>21941</td>\n",
       "      <td>1</td>\n",
       "      <td>2</td>\n",
       "      <td>...</td>\n",
       "      <td>34</td>\n",
       "      <td>3</td>\n",
       "      <td>0</td>\n",
       "      <td>3</td>\n",
       "      <td>0</td>\n",
       "      <td>1</td>\n",
       "      <td>2</td>\n",
       "      <td>3</td>\n",
       "      <td>2</td>\n",
       "      <td>2</td>\n",
       "    </tr>\n",
       "    <tr>\n",
       "      <th>9133</th>\n",
       "      <td>2</td>\n",
       "      <td>2611.836866</td>\n",
       "      <td>0</td>\n",
       "      <td>1</td>\n",
       "      <td>1</td>\n",
       "      <td>0</td>\n",
       "      <td>1</td>\n",
       "      <td>0</td>\n",
       "      <td>1</td>\n",
       "      <td>0</td>\n",
       "      <td>...</td>\n",
       "      <td>3</td>\n",
       "      <td>90</td>\n",
       "      <td>0</td>\n",
       "      <td>1</td>\n",
       "      <td>1</td>\n",
       "      <td>5</td>\n",
       "      <td>3</td>\n",
       "      <td>1</td>\n",
       "      <td>0</td>\n",
       "      <td>1</td>\n",
       "    </tr>\n",
       "  </tbody>\n",
       "</table>\n",
       "<p>7847 rows × 21 columns</p>\n",
       "</div>"
      ],
      "text/plain": [
       "      state  customer_lifetime_value  response  coverage  education   \n",
       "0         0              2763.519279         0         0          0  \\\n",
       "2         1             12887.431650         0         2          0   \n",
       "3         2              7645.861827         0         0          0   \n",
       "4         0              2813.692575         0         0          0   \n",
       "5         3              8256.297800         1         0          0   \n",
       "...     ...                      ...       ...       ...        ...   \n",
       "9128      2              4100.398533         0         2          1   \n",
       "9130      2              3096.511217         1         1          1   \n",
       "9131      2              8163.890428         0         1          0   \n",
       "9132      2              7524.442436         0         1          1   \n",
       "9133      2              2611.836866         0         1          1   \n",
       "\n",
       "      employmentstatus  gender  income  location_code  marital_status  ...   \n",
       "0                    4       0   56274              1               2  ...  \\\n",
       "2                    4       0   48767              1               2  ...   \n",
       "3                    0       1       0              1               2  ...   \n",
       "4                    4       1   43836              0               0  ...   \n",
       "5                    4       0   62902              0               2  ...   \n",
       "...                ...     ...     ...            ...             ...  ...   \n",
       "9128                 4       0   47761              1               0  ...   \n",
       "9130                 4       0   21604              1               1  ...   \n",
       "9131                 0       1       0              1               0  ...   \n",
       "9132                 4       1   21941              1               2  ...   \n",
       "9133                 0       1       0              1               0  ...   \n",
       "\n",
       "      months_since_last_claim  months_since_policy_inception   \n",
       "0                          32                              5  \\\n",
       "2                          18                             38   \n",
       "3                          18                             65   \n",
       "4                          12                             44   \n",
       "5                          14                             94   \n",
       "...                       ...                            ...   \n",
       "9128                       16                             58   \n",
       "9130                       14                             28   \n",
       "9131                        9                             37   \n",
       "9132                       34                              3   \n",
       "9133                        3                             90   \n",
       "\n",
       "      number_of_open_complaints  number_of_policies  policy_type  policy   \n",
       "0                             0                   1            1       5  \\\n",
       "2                             0                   2            0       2   \n",
       "3                             0                   7            1       4   \n",
       "4                             0                   1            0       0   \n",
       "5                             0                   2            0       2   \n",
       "...                         ...                 ...          ...     ...   \n",
       "9128                          0                   1            0       1   \n",
       "9130                          0                   1            1       5   \n",
       "9131                          3                   2            1       4   \n",
       "9132                          0                   3            0       1   \n",
       "9133                          0                   1            1       5   \n",
       "\n",
       "      renew_offer_type  sales_channel  vehicle_class  vehicle_size  \n",
       "0                    0              0              0             1  \n",
       "2                    0              0              0             1  \n",
       "3                    0              1              1             1  \n",
       "4                    0              0              2             1  \n",
       "5                    1              2              0             1  \n",
       "...                ...            ...            ...           ...  \n",
       "9128                 0              3              2             2  \n",
       "9130                 0              3              2             1  \n",
       "9131                 0              3              2             1  \n",
       "9132                 2              3              2             2  \n",
       "9133                 3              1              0             1  \n",
       "\n",
       "[7847 rows x 21 columns]"
      ]
     },
     "execution_count": 25,
     "metadata": {},
     "output_type": "execute_result"
    }
   ],
   "source": [
    "X = versionf.drop(['total_claim_amount'], axis=1)\n",
    "X"
   ]
  },
  {
   "cell_type": "code",
   "execution_count": 28,
   "id": "dd364bdc",
   "metadata": {},
   "outputs": [],
   "source": [
    "from sklearn.model_selection import train_test_split\n",
    "X_train, X_test, y_train, y_test = train_test_split(X, y, test_size=0.25, random_state=100)"
   ]
  },
  {
   "cell_type": "markdown",
   "id": "8124239e",
   "metadata": {},
   "source": [
    "Try a simple linear regression with all the data to see whether we are getting good results."
   ]
  },
  {
   "cell_type": "code",
   "execution_count": 29,
   "id": "fd498845",
   "metadata": {},
   "outputs": [
    {
     "data": {
      "text/plain": [
       "0.52081678925622"
      ]
     },
     "execution_count": 29,
     "metadata": {},
     "output_type": "execute_result"
    }
   ],
   "source": [
    "from sklearn.linear_model import LinearRegression as LinReg\n",
    "linreg=LinReg()    \n",
    "linreg.fit(X_train, y_train)   \n",
    "y_pred_train = linreg.predict(X_train)\n",
    "y_pred_test=linreg.predict(X_test)   \n",
    "\n",
    "train_score=linreg.score(X_train, y_train)\n",
    "train_score"
   ]
  },
  {
   "cell_type": "markdown",
   "id": "2c177772",
   "metadata": {},
   "source": [
    "Now define a function that takes a list of models and train (and tests) them so we can try a lot of them without repeating code."
   ]
  },
  {
   "cell_type": "code",
   "execution_count": 30,
   "id": "d63b5210",
   "metadata": {},
   "outputs": [
    {
     "data": {
      "text/html": [
       "<style>#sk-container-id-1 {color: black;}#sk-container-id-1 pre{padding: 0;}#sk-container-id-1 div.sk-toggleable {background-color: white;}#sk-container-id-1 label.sk-toggleable__label {cursor: pointer;display: block;width: 100%;margin-bottom: 0;padding: 0.3em;box-sizing: border-box;text-align: center;}#sk-container-id-1 label.sk-toggleable__label-arrow:before {content: \"▸\";float: left;margin-right: 0.25em;color: #696969;}#sk-container-id-1 label.sk-toggleable__label-arrow:hover:before {color: black;}#sk-container-id-1 div.sk-estimator:hover label.sk-toggleable__label-arrow:before {color: black;}#sk-container-id-1 div.sk-toggleable__content {max-height: 0;max-width: 0;overflow: hidden;text-align: left;background-color: #f0f8ff;}#sk-container-id-1 div.sk-toggleable__content pre {margin: 0.2em;color: black;border-radius: 0.25em;background-color: #f0f8ff;}#sk-container-id-1 input.sk-toggleable__control:checked~div.sk-toggleable__content {max-height: 200px;max-width: 100%;overflow: auto;}#sk-container-id-1 input.sk-toggleable__control:checked~label.sk-toggleable__label-arrow:before {content: \"▾\";}#sk-container-id-1 div.sk-estimator input.sk-toggleable__control:checked~label.sk-toggleable__label {background-color: #d4ebff;}#sk-container-id-1 div.sk-label input.sk-toggleable__control:checked~label.sk-toggleable__label {background-color: #d4ebff;}#sk-container-id-1 input.sk-hidden--visually {border: 0;clip: rect(1px 1px 1px 1px);clip: rect(1px, 1px, 1px, 1px);height: 1px;margin: -1px;overflow: hidden;padding: 0;position: absolute;width: 1px;}#sk-container-id-1 div.sk-estimator {font-family: monospace;background-color: #f0f8ff;border: 1px dotted black;border-radius: 0.25em;box-sizing: border-box;margin-bottom: 0.5em;}#sk-container-id-1 div.sk-estimator:hover {background-color: #d4ebff;}#sk-container-id-1 div.sk-parallel-item::after {content: \"\";width: 100%;border-bottom: 1px solid gray;flex-grow: 1;}#sk-container-id-1 div.sk-label:hover label.sk-toggleable__label {background-color: #d4ebff;}#sk-container-id-1 div.sk-serial::before {content: \"\";position: absolute;border-left: 1px solid gray;box-sizing: border-box;top: 0;bottom: 0;left: 50%;z-index: 0;}#sk-container-id-1 div.sk-serial {display: flex;flex-direction: column;align-items: center;background-color: white;padding-right: 0.2em;padding-left: 0.2em;position: relative;}#sk-container-id-1 div.sk-item {position: relative;z-index: 1;}#sk-container-id-1 div.sk-parallel {display: flex;align-items: stretch;justify-content: center;background-color: white;position: relative;}#sk-container-id-1 div.sk-item::before, #sk-container-id-1 div.sk-parallel-item::before {content: \"\";position: absolute;border-left: 1px solid gray;box-sizing: border-box;top: 0;bottom: 0;left: 50%;z-index: -1;}#sk-container-id-1 div.sk-parallel-item {display: flex;flex-direction: column;z-index: 1;position: relative;background-color: white;}#sk-container-id-1 div.sk-parallel-item:first-child::after {align-self: flex-end;width: 50%;}#sk-container-id-1 div.sk-parallel-item:last-child::after {align-self: flex-start;width: 50%;}#sk-container-id-1 div.sk-parallel-item:only-child::after {width: 0;}#sk-container-id-1 div.sk-dashed-wrapped {border: 1px dashed gray;margin: 0 0.4em 0.5em 0.4em;box-sizing: border-box;padding-bottom: 0.4em;background-color: white;}#sk-container-id-1 div.sk-label label {font-family: monospace;font-weight: bold;display: inline-block;line-height: 1.2em;}#sk-container-id-1 div.sk-label-container {text-align: center;}#sk-container-id-1 div.sk-container {/* jupyter's `normalize.less` sets `[hidden] { display: none; }` but bootstrap.min.css set `[hidden] { display: none !important; }` so we also need the `!important` here to be able to override the default hidden behavior on the sphinx rendered scikit-learn.org. See: https://github.com/scikit-learn/scikit-learn/issues/21755 */display: inline-block !important;position: relative;}#sk-container-id-1 div.sk-text-repr-fallback {display: none;}</style><div id=\"sk-container-id-1\" class=\"sk-top-container\"><div class=\"sk-text-repr-fallback\"><pre>KNeighborsRegressor(n_neighbors=13)</pre><b>In a Jupyter environment, please rerun this cell to show the HTML representation or trust the notebook. <br />On GitHub, the HTML representation is unable to render, please try loading this page with nbviewer.org.</b></div><div class=\"sk-container\" hidden><div class=\"sk-item\"><div class=\"sk-estimator sk-toggleable\"><input class=\"sk-toggleable__control sk-hidden--visually\" id=\"sk-estimator-id-1\" type=\"checkbox\" checked><label for=\"sk-estimator-id-1\" class=\"sk-toggleable__label sk-toggleable__label-arrow\">KNeighborsRegressor</label><div class=\"sk-toggleable__content\"><pre>KNeighborsRegressor(n_neighbors=13)</pre></div></div></div></div></div>"
      ],
      "text/plain": [
       "KNeighborsRegressor(n_neighbors=13)"
      ]
     },
     "execution_count": 30,
     "metadata": {},
     "output_type": "execute_result"
    }
   ],
   "source": [
    "from sklearn.neighbors import KNeighborsRegressor\n",
    "\n",
    "model = KNeighborsRegressor(n_neighbors=13)\n",
    "model.fit(X_train, y_train)"
   ]
  },
  {
   "cell_type": "code",
   "execution_count": 31,
   "id": "8aec7f50",
   "metadata": {},
   "outputs": [
    {
     "data": {
      "text/plain": [
       "array([363.83647154, 544.93510808, 288.71202346, ..., 562.02579262,\n",
       "       518.17748531, 493.50557223])"
      ]
     },
     "execution_count": 31,
     "metadata": {},
     "output_type": "execute_result"
    }
   ],
   "source": [
    "predictions_train = model.predict(X_train)\n",
    "predictions_train"
   ]
  },
  {
   "cell_type": "code",
   "execution_count": 32,
   "id": "887fe42f",
   "metadata": {},
   "outputs": [
    {
     "data": {
      "text/plain": [
       "0.33837300614490073"
      ]
     },
     "execution_count": 32,
     "metadata": {},
     "output_type": "execute_result"
    }
   ],
   "source": [
    "score_train = model.score(X_train, y_train)\n",
    "score_train"
   ]
  },
  {
   "cell_type": "code",
   "execution_count": 33,
   "id": "957253e1",
   "metadata": {},
   "outputs": [],
   "source": [
    "predictions_test = model.predict(X_test)\n",
    "score_test = model.score(X_test, y_test)"
   ]
  },
  {
   "cell_type": "code",
   "execution_count": 34,
   "id": "bed524bb",
   "metadata": {},
   "outputs": [
    {
     "data": {
      "text/plain": [
       "0.22375218213372172"
      ]
     },
     "execution_count": 34,
     "metadata": {},
     "output_type": "execute_result"
    }
   ],
   "source": [
    "score_test"
   ]
  },
  {
   "cell_type": "markdown",
   "id": "96b987e9",
   "metadata": {},
   "source": [
    "Use the function to check LinearRegressor and KNeighborsRegressor."
   ]
  },
  {
   "cell_type": "code",
   "execution_count": 35,
   "id": "b19e10de",
   "metadata": {},
   "outputs": [],
   "source": [
    "scores = []\n",
    "for k in range(6,21):\n",
    "    model = KNeighborsRegressor(n_neighbors = k)\n",
    "    model.fit(X_train, y_train)\n",
    "    score = model.score(X_test,y_test)\n",
    "    scores.append(score)"
   ]
  },
  {
   "cell_type": "code",
   "execution_count": 36,
   "id": "130bbee7",
   "metadata": {},
   "outputs": [
    {
     "data": {
      "text/plain": [
       "[0.21727843530550184,\n",
       " 0.2186228784510036,\n",
       " 0.22014337782572713,\n",
       " 0.22266067271008605,\n",
       " 0.22391777001948776,\n",
       " 0.22320537210590385,\n",
       " 0.22372258531503242,\n",
       " 0.22375218213372172,\n",
       " 0.22788069603191685,\n",
       " 0.22829050079730095,\n",
       " 0.2311255161125545,\n",
       " 0.23605707171309387,\n",
       " 0.23627826447277955,\n",
       " 0.2372838995266804,\n",
       " 0.234801747128644]"
      ]
     },
     "execution_count": 36,
     "metadata": {},
     "output_type": "execute_result"
    }
   ],
   "source": [
    "scores"
   ]
  },
  {
   "cell_type": "markdown",
   "id": "e1d209d8",
   "metadata": {},
   "source": [
    "You can check also the MLPRegressor for this task!"
   ]
  },
  {
   "cell_type": "code",
   "execution_count": 37,
   "id": "a36fee1b",
   "metadata": {},
   "outputs": [
    {
     "data": {
      "image/png": "[encoded data removed]",
      "text/plain": [
       "<Figure size 1000x600 with 1 Axes>"
      ]
     },
     "metadata": {},
     "output_type": "display_data"
    }
   ],
   "source": [
    "plt.figure(figsize=(10,6))\n",
    "plt.plot(range(6,21), scores, marker='o')\n",
    "plt.xlabel('k')\n",
    "plt.ylabel('Accuracy score')\n",
    "plt.show()"
   ]
  },
  {
   "cell_type": "code",
   "execution_count": 38,
   "id": "12aab46b",
   "metadata": {},
   "outputs": [],
   "source": [
    "from sklearn.metrics import mean_squared_error\n",
    "\n",
    "MSEs = []\n",
    "\n",
    "for k in range(6,21):\n",
    "    model = KNeighborsRegressor(n_neighbors = k)\n",
    "    model.fit(X_train, y_train)\n",
    "    preds = model.predict(X_test)\n",
    "    MSE = mean_squared_error(y_test,preds)\n",
    "    MSEs.append(MSE)"
   ]
  },
  {
   "cell_type": "code",
   "execution_count": 39,
   "id": "b89b14ed",
   "metadata": {},
   "outputs": [
    {
     "data": {
      "text/plain": [
       "[33190.0571658461,\n",
       " 33133.04820267431,\n",
       " 33068.57385643932,\n",
       " 32961.83198949232,\n",
       " 32908.526786922164,\n",
       " 32938.7348820395,\n",
       " 32916.80328241044,\n",
       " 32915.54827660949,\n",
       " 32740.48524210044,\n",
       " 32723.108125890227,\n",
       " 32602.893831786754,\n",
       " 32393.7790971463,\n",
       " 32384.39977163672,\n",
       " 32341.75742417568,\n",
       " 32447.009130147682]"
      ]
     },
     "execution_count": 39,
     "metadata": {},
     "output_type": "execute_result"
    }
   ],
   "source": [
    "MSEs"
   ]
  },
  {
   "cell_type": "code",
   "execution_count": 40,
   "id": "4967e3c3",
   "metadata": {},
   "outputs": [
    {
     "data": {
      "image/png": "[encoded data removed]",
      "text/plain": [
       "<Figure size 1000x600 with 1 Axes>"
      ]
     },
     "metadata": {},
     "output_type": "display_data"
    }
   ],
   "source": [
    "plt.figure(figsize=(10,6))\n",
    "plt.plot(range(6,21), MSEs, marker='o')\n",
    "plt.xlabel('k')\n",
    "plt.ylabel('Mean Square Error')\n",
    "plt.show()"
   ]
  },
  {
   "cell_type": "code",
   "execution_count": 41,
   "id": "611f9c23",
   "metadata": {},
   "outputs": [],
   "source": [
    "from sklearn import linear_model\n",
    "from sklearn.metrics import r2_score\n",
    "lm = linear_model.LinearRegression()\n",
    "model = lm.fit(X_train,y_train)"
   ]
  },
  {
   "cell_type": "code",
   "execution_count": 42,
   "id": "6801866f",
   "metadata": {},
   "outputs": [
    {
     "data": {
      "text/plain": [
       "0.52081678925622"
      ]
     },
     "execution_count": 42,
     "metadata": {},
     "output_type": "execute_result"
    }
   ],
   "source": [
    "predictions_train = lm.predict(X_train)\n",
    "r2_score(y_train, predictions_train)"
   ]
  },
  {
   "cell_type": "code",
   "execution_count": 43,
   "id": "c921225b",
   "metadata": {},
   "outputs": [
    {
     "data": {
      "text/plain": [
       "0.5050109713005367"
      ]
     },
     "execution_count": 43,
     "metadata": {},
     "output_type": "execute_result"
    }
   ],
   "source": [
    "predictions  = lm.predict(X_test)\n",
    "r2_score(y_test, predictions)"
   ]
  },
  {
   "cell_type": "code",
   "execution_count": null,
   "id": "8528aa3d",
   "metadata": {},
   "outputs": [],
   "source": []
  }
 ],
 "metadata": {
  "kernelspec": {
   "display_name": "Python 3 (ipykernel)",
   "language": "python",
   "name": "python3"
  },
  "language_info": {
   "codemirror_mode": {
    "name": "ipython",
    "version": 3
   },
   "file_extension": ".py",
   "mimetype": "text/x-python",
   "name": "python",
   "nbconvert_exporter": "python",
   "pygments_lexer": "ipython3",
   "version": "3.9.13"
  }
 },
 "nbformat": 4,
 "nbformat_minor": 5
}
